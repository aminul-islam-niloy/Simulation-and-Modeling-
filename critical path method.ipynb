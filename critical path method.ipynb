{
 "cells": [
  {
   "cell_type": "markdown",
   "metadata": {},
   "source": [
    "Simulation of critical path method"
   ]
  },
  {
   "cell_type": "code",
   "execution_count": 1,
   "metadata": {},
   "outputs": [],
   "source": [
    "import numpy as np"
   ]
  },
  {
   "cell_type": "code",
   "execution_count": 2,
   "metadata": {},
   "outputs": [],
   "source": [
    "class Activity:\n",
    "    \n",
    "    def __init__(self, idx, activity, duration) -> None:\n",
    "        self.idx = idx\n",
    "        self.activity = activity\n",
    "        self.duration = duration\n",
    "        self.predecessor = []\n",
    "        self.successor = []\n",
    "        self.early_start = 0\n",
    "        self.early_finish = 0\n",
    "        self.late_start = 0\n",
    "        self.late_finish = 0\n",
    "        self.slack = 0"
   ]
  },
  {
   "cell_type": "code",
   "execution_count": 10,
   "metadata": {},
   "outputs": [],
   "source": [
    "file_path = \"./input.txt\"\n",
    "\n",
    "activities = {}\n",
    "index = []"
   ]
  },
  {
   "cell_type": "code",
   "execution_count": 11,
   "metadata": {},
   "outputs": [],
   "source": [
    "for lines in open(file_path):\n",
    "    words = lines.rstrip('\\n').split(',')\n",
    "    idx = int(words[0])\n",
    "    activity = words[1]\n",
    "    duration = int(words[2])\n",
    "    predecessors = words[3]\n",
    "    index.append(idx)\n",
    "    activities[idx] = Activity(idx, activity, duration)\n",
    "    \n",
    "    if predecessors:\n",
    "        predecessors = predecessors.split(';')\n",
    "        for item in predecessors:\n",
    "            item = int(item)\n",
    "            activities[idx].predecessor.append(item)\n",
    "            activities[item].successor.append(idx)\n",
    "\n",
    "maxEF = 0"
   ]
  },
  {
   "cell_type": "code",
   "execution_count": 12,
   "metadata": {},
   "outputs": [],
   "source": [
    "# Forward pass (early start and early finish)\n",
    "for idx in index:\n",
    "    if not activities[idx].predecessor:\n",
    "        activities[idx].early_finish = activities[idx].duration\n",
    "    else:\n",
    "        maxTime = 0\n",
    "        for item in activities[idx].predecessor:\n",
    "            maxTime = max(maxTime, activities[item].early_finish)\n",
    "\n",
    "        activities[idx].early_start = maxTime\n",
    "        activities[idx].early_finish = maxTime + activities[idx].duration\n",
    "\n",
    "    maxEF = max(maxEF, activities[idx].early_finish)"
   ]
  },
  {
   "cell_type": "code",
   "execution_count": 13,
   "metadata": {},
   "outputs": [],
   "source": [
    "\n",
    "# Backward pass (late start and late finish)\n",
    "for i in range(len(index)):\n",
    "    idx = index[len(index) - i - 1]\n",
    "    if not activities[idx].successor:\n",
    "        activities[idx].late_finish = maxEF\n",
    "        activities[idx].late_start = maxEF - activities[idx].duration\n",
    "    else:\n",
    "        minTime = float(\"inf\")\n",
    "        for item in activities[idx].successor:\n",
    "            minTime = min(minTime, activities[item].late_start)\n",
    "\n",
    "        activities[idx].late_finish = minTime\n",
    "        activities[idx].late_start = minTime - activities[idx].duration"
   ]
  },
  {
   "cell_type": "code",
   "execution_count": 14,
   "metadata": {},
   "outputs": [],
   "source": [
    "# Calculate slack and identify critical tasks\n",
    "for idx in index:\n",
    "    activities[idx].slack = activities[idx].late_start - activities[idx].early_start\n",
    "    activities[idx].is_critical = activities[idx].slack == 0"
   ]
  },
  {
   "cell_type": "code",
   "execution_count": 15,
   "metadata": {},
   "outputs": [],
   "source": [
    "# Find the critical path\n",
    "result = [activities[idx].activity for idx in index if activities[idx].is_critical]"
   ]
  },
  {
   "cell_type": "code",
   "execution_count": 16,
   "metadata": {},
   "outputs": [
    {
     "name": "stdout",
     "output_type": "stream",
     "text": [
      "A -> C -> E -> F\n"
     ]
    }
   ],
   "source": [
    "\n",
    "# Print the critical path\n",
    "for i in range(len(result) - 1):\n",
    "    print(result[i] + \" -> \", end=\"\")\n",
    "print(result[len(result) - 1])"
   ]
  }
 ],
 "metadata": {
  "kernelspec": {
   "display_name": "Python 3",
   "language": "python",
   "name": "python3"
  },
  "language_info": {
   "codemirror_mode": {
    "name": "ipython",
    "version": 3
   },
   "file_extension": ".py",
   "mimetype": "text/x-python",
   "name": "python",
   "nbconvert_exporter": "python",
   "pygments_lexer": "ipython3",
   "version": "3.9.13"
  }
 },
 "nbformat": 4,
 "nbformat_minor": 2
}
