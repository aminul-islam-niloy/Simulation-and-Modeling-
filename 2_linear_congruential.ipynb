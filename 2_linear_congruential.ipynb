{
 "cells": [
  {
   "cell_type": "markdown",
   "metadata": {},
   "source": [
    "Write a program for linear congruential generator method to generate a\n",
    "sequence of random integers between zero and M-1. F"
   ]
  },
  {
   "cell_type": "code",
   "execution_count": 7,
   "metadata": {},
   "outputs": [],
   "source": [
    "def l_c_g(a, b, c, M, x0, num_iterations):\n",
    "    sequence = [x0]\n",
    "\n",
    "    for _ in range(num_iterations):\n",
    "        xn = (a * sequence[-1] + b) % M\n",
    "        sequence.append(xn)\n",
    "\n",
    "    return sequence"
   ]
  },
  {
   "cell_type": "code",
   "execution_count": 8,
   "metadata": {},
   "outputs": [],
   "source": [
    "def generate_sequence(a, b, c, M, x0, num_iterations):\n",
    "    random_numbers = l_c_g(a, b, c, M, x0, num_iterations)\n",
    "    return random_numbers"
   ]
  },
  {
   "cell_type": "code",
   "execution_count": 13,
   "metadata": {},
   "outputs": [
    {
     "name": "stdout",
     "output_type": "stream",
     "text": [
      "Generated Sequence: [0, 1, 23, 3, 67, 35, 51, 43, 11, 27, 19, 59, 3]\n"
     ]
    }
   ],
   "source": [
    "if __name__ == \"__main__\":\n",
    "  #multiplier, increment, seed, modulus, initial_value, num_iterations\n",
    "    a, b, c, M, x0, num_iterations = 22, 1, 0, 72, 0, 12\n",
    "    generated_sequence = generate_sequence(a, b, c, M, x0, num_iterations)\n",
    "\n",
    "    print(\"Generated Sequence:\", generated_sequence)"
   ]
  }
 ],
 "metadata": {
  "kernelspec": {
   "display_name": "Python 3",
   "language": "python",
   "name": "python3"
  },
  "language_info": {
   "codemirror_mode": {
    "name": "ipython",
    "version": 3
   },
   "file_extension": ".py",
   "mimetype": "text/x-python",
   "name": "python",
   "nbconvert_exporter": "python",
   "pygments_lexer": "ipython3",
   "version": "3.9.13"
  }
 },
 "nbformat": 4,
 "nbformat_minor": 2
}
