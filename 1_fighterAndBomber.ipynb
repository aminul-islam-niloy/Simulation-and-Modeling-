{
 "cells": [
  {
   "cell_type": "markdown",
   "metadata": {},
   "source": [
    "#### When the distance of the bomber and the fighter is less than 900km and greater than 100km, it is assumed that the bomber is shot down or destroyed. Otherwise, the bomber escaped from sight"
   ]
  },
  {
   "cell_type": "code",
   "execution_count": 1,
   "metadata": {},
   "outputs": [],
   "source": [
    "import numpy as np\n",
    "import random\n",
    "import matplotlib.pyplot as plt"
   ]
  },
  {
   "cell_type": "code",
   "execution_count": 13,
   "metadata": {},
   "outputs": [],
   "source": [
    "def calculate_distance(x1, y1, x2, y2):\n",
    "    return np.sqrt((x2 - x1)**2 + (y2 - y1)**2)"
   ]
  },
  {
   "cell_type": "code",
   "execution_count": 14,
   "metadata": {},
   "outputs": [],
   "source": [
    "def update_fighter_position(xf, yf, xb, yb, vf):\n",
    "\n",
    "    dist = calculate_distance(xf, yf, xb, yb)\n",
    "\n",
    "    sinA, cosA = (yb - yf) / dist, (xb - xf) / dist\n",
    "    xf, yf = xf + vf * cosA, yf + vf * sinA\n",
    "    return xf, yf"
   ]
  },
  {
   "cell_type": "code",
   "execution_count": 15,
   "metadata": {},
   "outputs": [],
   "source": [
    "def update_bomber_position():\n",
    "    return np.random.randint(0, 1000, 2)"
   ]
  },
  {
   "cell_type": "code",
   "execution_count": 16,
   "metadata": {},
   "outputs": [],
   "source": [
    "def simulate_pursuit(vf, thresholdDist, maxDist):\n",
    "    xf, yf = np.random.randint(0, 1000, 2)\n",
    "    xb, yb = np.random.randint(0, 1000, 2)\n",
    "\n",
    "    fx, fy, bx, by = [xf], [yf], [xb], [yb]\n",
    "    time = 0\n",
    "    while True:\n",
    "        time += 1\n",
    "\n",
    "        dist = calculate_distance(xf, yf, xb, yb)\n",
    "        print(f\"time={time} xf={xf:.2f} yf={yf:.2f} xb={xb:.2f} yb={yb:.2f} distance={dist:.2f}\")\n",
    "\n",
    "        if dist >= maxDist:\n",
    "            print(f'BOMBER ESCAPES FROM THE SIGHT OF FIGHTER at {time} seconds')\n",
    "            break\n",
    "        elif dist <= thresholdDist:\n",
    "            print(f'BOMBER SHOT DOWN at {time} seconds')\n",
    "            break\n",
    "        else:\n",
    "            xf, yf = update_fighter_position(xf, yf, xb, yb, vf)\n",
    "            xb, yb = update_bomber_position()\n",
    "\n",
    "            fx.append(xf)\n",
    "            fy.append(yf)\n",
    "            bx.append(xb)\n",
    "            by.append(yb)\n",
    "\n",
    "    return fx, fy, bx, by"
   ]
  },
  {
   "cell_type": "code",
   "execution_count": 17,
   "metadata": {},
   "outputs": [],
   "source": [
    "# Define the parameters\n",
    "vf_param = 20\n",
    "thresholdDist_param = 100\n",
    "maxDist_param = 900"
   ]
  },
  {
   "cell_type": "code",
   "execution_count": 19,
   "metadata": {},
   "outputs": [
    {
     "name": "stdout",
     "output_type": "stream",
     "text": [
      "time=1 xf=176.00 yf=760.00 xb=1.00 yb=533.00 distance=286.63\n",
      "time=2 xf=163.79 yf=744.16 xb=871.00 yb=504.00 distance=746.88\n",
      "time=3 xf=182.73 yf=737.73 xb=4.00 yb=820.00 distance=196.75\n",
      "time=4 xf=164.56 yf=746.09 xb=495.00 yb=430.00 distance=457.28\n",
      "time=5 xf=179.01 yf=732.27 xb=549.00 yb=461.00 distance=458.78\n",
      "time=6 xf=195.14 yf=720.44 xb=911.00 yb=157.00 distance=911.00\n",
      "BOMBER ESCAPES FROM THE SIGHT OF FIGHTER at 6 seconds\n"
     ]
    }
   ],
   "source": [
    "\n",
    "# Call the function with parameters\n",
    "fx, fy, bx, by = simulate_pursuit(vf_param, thresholdDist_param, maxDist_param)"
   ]
  },
  {
   "cell_type": "code",
   "execution_count": 20,
   "metadata": {},
   "outputs": [
    {
     "data": {
      "image/png": "[encoded data removed]",
      "text/plain": [
       "<Figure size 640x480 with 1 Axes>"
      ]
     },
     "metadata": {},
     "output_type": "display_data"
    }
   ],
   "source": [
    "# Plot the path of the fighter and bomber\n",
    "plt.scatter(fx, fy, c='blue', marker='o', label='Fighter')\n",
    "plt.scatter(bx, by, c='red', marker='x', label='Bomber')\n",
    "plt.xlabel('x axis')\n",
    "plt.ylabel('y axis')\n",
    "plt.title('Bomber Vs Fighter\\n')\n",
    "plt.legend()\n",
    "plt.show()\n"
   ]
  }
 ],
 "metadata": {
  "kernelspec": {
   "display_name": "Python 3",
   "language": "python",
   "name": "python3"
  },
  "language_info": {
   "codemirror_mode": {
    "name": "ipython",
    "version": 3
   },
   "file_extension": ".py",
   "mimetype": "text/x-python",
   "name": "python",
   "nbconvert_exporter": "python",
   "pygments_lexer": "ipython3",
   "version": "3.9.13"
  }
 },
 "nbformat": 4,
 "nbformat_minor": 2
}
